{
  "cells": [
    {
      "cell_type": "markdown",
      "metadata": {
        "id": "8AGsF-Euw3c9"
      },
      "source": [
        "# Библиотеки"
      ]
    },
    {
      "cell_type": "code",
      "source": [
        "!pip uninstall -y diffusers transformers accelerate huggingface_hub\n",
        "!pip install --quiet \\\n",
        "  diffusers==0.26.3 \\\n",
        "  transformers==4.37.2 \\\n",
        "  accelerate==0.25.0 \\\n",
        "  huggingface_hub==0.20.3 \\\n",
        "  safetensors sentencepiece xformers"
      ],
      "metadata": {
        "colab": {
          "base_uri": "https://localhost:8080/"
        },
        "id": "jdZ5Aoj0115g",
        "outputId": "7deb7b93-069e-4076-999b-6b52791842ae"
      },
      "execution_count": null,
      "outputs": [
        {
          "output_type": "stream",
          "name": "stdout",
          "text": [
            "Found existing installation: diffusers 0.34.0\n",
            "Uninstalling diffusers-0.34.0:\n",
            "  Successfully uninstalled diffusers-0.34.0\n",
            "Found existing installation: transformers 4.53.1\n",
            "Uninstalling transformers-4.53.1:\n",
            "  Successfully uninstalled transformers-4.53.1\n",
            "Found existing installation: accelerate 1.8.1\n",
            "Uninstalling accelerate-1.8.1:\n",
            "  Successfully uninstalled accelerate-1.8.1\n",
            "Found existing installation: huggingface-hub 0.33.2\n",
            "Uninstalling huggingface-hub-0.33.2:\n",
            "  Successfully uninstalled huggingface-hub-0.33.2\n",
            "\u001b[2K     \u001b[90m━━━━━━━━━━━━━━━━━━━━━━━━━━━━━━━━━━━━━━━\u001b[0m \u001b[32m129.4/129.4 kB\u001b[0m \u001b[31m4.4 MB/s\u001b[0m eta \u001b[36m0:00:00\u001b[0m\n",
            "\u001b[2K   \u001b[90m━━━━━━━━━━━━━━━━━━━━━━━━━━━━━━━━━━━━━━━━\u001b[0m \u001b[32m1.9/1.9 MB\u001b[0m \u001b[31m43.5 MB/s\u001b[0m eta \u001b[36m0:00:00\u001b[0m\n",
            "\u001b[2K   \u001b[90m━━━━━━━━━━━━━━━━━━━━━━━━━━━━━━━━━━━━━━━━\u001b[0m \u001b[32m8.4/8.4 MB\u001b[0m \u001b[31m122.9 MB/s\u001b[0m eta \u001b[36m0:00:00\u001b[0m\n",
            "\u001b[2K   \u001b[90m━━━━━━━━━━━━━━━━━━━━━━━━━━━━━━━━━━━━━━━━\u001b[0m \u001b[32m265.7/265.7 kB\u001b[0m \u001b[31m23.1 MB/s\u001b[0m eta \u001b[36m0:00:00\u001b[0m\n",
            "\u001b[2K   \u001b[90m━━━━━━━━━━━━━━━━━━━━━━━━━━━━━━━━━━━━━━━━\u001b[0m \u001b[32m330.1/330.1 kB\u001b[0m \u001b[31m30.4 MB/s\u001b[0m eta \u001b[36m0:00:00\u001b[0m\n",
            "\u001b[2K   \u001b[90m━━━━━━━━━━━━━━━━━━━━━━━━━━━━━━━━━━━━━━━━\u001b[0m \u001b[32m117.1/117.1 MB\u001b[0m \u001b[31m7.9 MB/s\u001b[0m eta \u001b[36m0:00:00\u001b[0m\n",
            "\u001b[2K   \u001b[91m━━━━━━━━━━━━━━━━━━━━━━━━━━━━━━\u001b[0m\u001b[90m╺\u001b[0m\u001b[90m━━━━━━━━━\u001b[0m \u001b[32m622.7/821.2 MB\u001b[0m \u001b[31m66.4 MB/s\u001b[0m eta \u001b[36m0:00:03\u001b[0m"
          ]
        }
      ]
    },
    {
      "cell_type": "code",
      "execution_count": null,
      "metadata": {
        "id": "OanaCjDaw64X"
      },
      "outputs": [],
      "source": [
        "#импорт библиотек\n",
        "from diffusers import StableDiffusionXLPipeline\n",
        "from diffusers.utils import make_image_grid\n",
        "import torch"
      ]
    },
    {
      "cell_type": "markdown",
      "metadata": {
        "id": "tkCc6jaTw5mG"
      },
      "source": [
        "# Код"
      ]
    },
    {
      "cell_type": "code",
      "source": [
        "!pip uninstall -y peft trl bitsandbytes"
      ],
      "metadata": {
        "id": "EieYhTq33gGS"
      },
      "execution_count": null,
      "outputs": []
    },
    {
      "cell_type": "code",
      "source": [
        "!pip show peft  # если пусто — значит, всё хорошо\n"
      ],
      "metadata": {
        "id": "UVE_oCLl3i5E"
      },
      "execution_count": null,
      "outputs": []
    },
    {
      "cell_type": "code",
      "execution_count": null,
      "metadata": {
        "id": "t6V-_wN1x7m_"
      },
      "outputs": [],
      "source": [
        "#установка модели\n",
        "pipe = StableDiffusionXLPipeline.from_pretrained(\n",
        "    \"stabilityai/stable-diffusion-xl-base-1.0\",\n",
        "    torch_dtype=torch.float16,\n",
        "    variant=\"fp16\"\n",
        ")\n",
        "pipe.enable_model_cpu_offload()\n",
        "pipe.enable_attention_slicing()\n",
        "pipe.to(\"cuda\")\n"
      ]
    },
    {
      "cell_type": "code",
      "execution_count": null,
      "metadata": {
        "id": "fDYrifaOygST"
      },
      "outputs": [],
      "source": [
        "prompt = \"children's book illustration for social media\" # Позитивный промпт\n",
        "neg_prompt = \"no pink color\" # Негативный промпт\n",
        "\n",
        "images = pipe(prompt=prompt, negative_prompt=neg_prompt, width=512, height=512, num_images_per_prompt=4).images\n",
        "make_image_grid(images, rows=2, cols=2)"
      ]
    }
  ],
  "metadata": {
    "accelerator": "GPU",
    "colab": {
      "gpuType": "T4",
      "provenance": []
    },
    "kernelspec": {
      "display_name": "Python 3",
      "name": "python3"
    },
    "language_info": {
      "name": "python"
    }
  },
  "nbformat": 4,
  "nbformat_minor": 0
}